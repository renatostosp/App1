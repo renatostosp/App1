{
  "cells": [
    {
      "cell_type": "markdown",
      "metadata": {
        "id": "view-in-github",
        "colab_type": "text"
      },
      "source": [
        "<a href=\"https://colab.research.google.com/github/renatostosp/App1/blob/master/atividade1_rna2023_1_renato_santos_pereira.ipynb\" target=\"_parent\"><img src=\"https://colab.research.google.com/assets/colab-badge.svg\" alt=\"Open In Colab\"/></a>"
      ]
    },
    {
      "cell_type": "code",
      "execution_count": null,
      "metadata": {
        "colab": {
          "background_save": true
        },
        "id": "u-Q0ZQ81AJAD"
      },
      "outputs": [],
      "source": [
        "import numpy as np\n",
        "import tensorflow as tf\n",
        "from tensorflow.keras.datasets import reuters\n",
        "from tensorflow.keras.models import Sequential\n",
        "from tensorflow.keras.layers import Dense, Dropout, Activation\n",
        "from tensorflow.keras.preprocessing.text import Tokenizer"
      ]
    },
    {
      "cell_type": "code",
      "execution_count": null,
      "metadata": {
        "colab": {
          "background_save": true
        },
        "id": "mvnfT5lcAJx1"
      },
      "outputs": [],
      "source": [
        "(x_train, y_train), (x_test, y_test) = reuters.load_data(num_words=10000)\n",
        "num_classes = np.max(y_train) + 1"
      ]
    },
    {
      "cell_type": "code",
      "execution_count": null,
      "metadata": {
        "colab": {
          "background_save": true,
          "base_uri": "https://localhost:8080/"
        },
        "id": "SwY0M11JAJ6z",
        "outputId": "60594f8b-219c-4d01-9f05-fe2ed5277618"
      },
      "outputs": [
        {
          "name": "stdout",
          "output_type": "stream",
          "text": [
            "x_train shape: (8982, 10000)\n",
            "x_test shape: (2246, 10000)\n"
          ]
        }
      ],
      "source": [
        "tokenizer = Tokenizer(num_words=10000)\n",
        "x_train = tokenizer.sequences_to_matrix(x_train, mode='count')\n",
        "x_test = tokenizer.sequences_to_matrix(x_test, mode='count')\n",
        "print('x_train shape:', x_train.shape)\n",
        "print('x_test shape:', x_test.shape)"
      ]
    },
    {
      "cell_type": "code",
      "execution_count": null,
      "metadata": {
        "colab": {
          "background_save": true,
          "base_uri": "https://localhost:8080/"
        },
        "id": "CqSLs8-MAJ-W",
        "outputId": "e43edad8-3222-49c2-f059-e67a7989a34c"
      },
      "outputs": [
        {
          "name": "stdout",
          "output_type": "stream",
          "text": [
            "y_train shape: (8982, 46)\n",
            "y_test shape: (2246, 46)\n"
          ]
        }
      ],
      "source": [
        "y_train = tf.keras.utils.to_categorical(y_train, num_classes)\n",
        "y_test = tf.keras.utils.to_categorical(y_test, num_classes)\n",
        "print('y_train shape:', y_train.shape)\n",
        "print('y_test shape:', y_test.shape)"
      ]
    },
    {
      "cell_type": "code",
      "execution_count": null,
      "metadata": {
        "colab": {
          "background_save": true
        },
        "id": "kzaPJpw99KKt"
      },
      "outputs": [],
      "source": [
        "model = Sequential()\n",
        "model.add(Dense(512, input_shape=(10000,)))\n",
        "model.add(Activation('relu'))\n",
        "model.add(Dropout(0.5))\n",
        "model.add(Dense(num_classes))\n",
        "model.add(Activation('softmax'))"
      ]
    },
    {
      "cell_type": "code",
      "execution_count": null,
      "metadata": {
        "colab": {
          "background_save": true
        },
        "id": "Bjf3XLC--B6Q"
      },
      "outputs": [],
      "source": [
        "model.compile(optimizer='rmsprop',\n",
        "              loss='categorical_crossentropy',\n",
        "              metrics=['accuracy'])"
      ]
    },
    {
      "cell_type": "code",
      "execution_count": null,
      "metadata": {
        "colab": {
          "base_uri": "https://localhost:8080/"
        },
        "id": "Y75bm-j7CKHJ",
        "outputId": "06aa2048-335c-41fd-8b75-55c3a91c28f4"
      },
      "outputs": [
        {
          "name": "stdout",
          "output_type": "stream",
          "text": [
            "Epoch 1/5\n",
            "253/253 [==============================] - 21s 80ms/step - loss: 1.3263 - accuracy: 0.7334 - val_loss: 1.0384 - val_accuracy: 0.7898\n",
            "Epoch 2/5\n",
            "253/253 [==============================] - 19s 74ms/step - loss: 0.7123 - accuracy: 0.8507 - val_loss: 0.9521 - val_accuracy: 0.8109\n",
            "Epoch 3/5\n",
            "253/253 [==============================] - 20s 78ms/step - loss: 0.5031 - accuracy: 0.8952 - val_loss: 0.9605 - val_accuracy: 0.8165\n",
            "Epoch 4/5\n",
            "253/253 [==============================] - 19s 74ms/step - loss: 0.3826 - accuracy: 0.9185 - val_loss: 1.0264 - val_accuracy: 0.8287\n",
            "Epoch 5/5\n",
            "253/253 [==============================] - 20s 78ms/step - loss: 0.3161 - accuracy: 0.9331 - val_loss: 1.0996 - val_accuracy: 0.8331\n"
          ]
        }
      ],
      "source": [
        "history = model.fit(x_train, y_train,\n",
        "                    epochs=5,\n",
        "                    batch_size=32,\n",
        "                    validation_split=0.1)"
      ]
    },
    {
      "cell_type": "code",
      "execution_count": null,
      "metadata": {
        "colab": {
          "base_uri": "https://localhost:8080/"
        },
        "id": "FdMOQHKiAKLI",
        "outputId": "65d99f4b-a33d-4568-f185-b168171086d3"
      },
      "outputs": [
        {
          "name": "stdout",
          "output_type": "stream",
          "text": [
            "71/71 [==============================] - 1s 12ms/step - loss: 1.1026 - accuracy: 0.8103\n",
            "Test loss: 1.102649\n",
            "Test Accuracy: 0.810329\n"
          ]
        }
      ],
      "source": [
        "score = model.evaluate(x_test, y_test, batch_size=32, verbose=1)\n",
        "print('Test loss: {:4f}\\nTest Accuracy: {:4f}'.format(score[0], score[1]))"
      ]
    }
  ],
  "metadata": {
    "colab": {
      "provenance": [],
      "include_colab_link": true
    },
    "kernelspec": {
      "display_name": "Python 3",
      "name": "python3"
    }
  },
  "nbformat": 4,
  "nbformat_minor": 0
}